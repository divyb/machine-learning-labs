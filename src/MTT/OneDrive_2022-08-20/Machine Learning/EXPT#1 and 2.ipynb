{
 "cells": [
  {
   "cell_type": "code",
   "execution_count": null,
   "metadata": {},
   "outputs": [],
   "source": [
    "# Expt1......\n",
    "# Question 1 A"
   ]
  },
  {
   "cell_type": "code",
   "execution_count": 5,
   "metadata": {},
   "outputs": [],
   "source": [
    "#y_hat=m*x+c\n",
    "import numpy as np\n",
    "def predict(x,parameters):\n",
    "  return x*parameters[1]+parameters[0]  #mx+c"
   ]
  },
  {
   "cell_type": "code",
   "execution_count": 16,
   "metadata": {},
   "outputs": [],
   "source": [
    "import matplotlib.pyplot as plt\n",
    "def fit(x,y,parameter,alpha,epoch): \n",
    "    sum_errors=list()\n",
    "    for no_time in range(epoch):\n",
    "        sum_error=0\n",
    "        for i in range(len(x)):\n",
    "            y_hat=predict(x[i],parameter)\n",
    "            error=y_hat-y[i] #y[i]-y_hat\n",
    "            sum_error=sum_error+error**2\n",
    "            #sum_error=sum_error+abs(error)\n",
    "            parameter[1]=parameter[1]-(alpha*error*x[i]) ##m = m -alpha *error*x\n",
    "            parameter[0]=parameter[0]-(alpha*error)  # c = c - alpha * error \n",
    "        sum_errors.append(sum_error)\n",
    "        print(\"epoch \",no_time,\"sum error : \",sum_error)\n",
    "    plt.plot(range(epoch),sum_errors)\n",
    "    plt.xlabel(\"Epoch\")\n",
    "    plt.ylabel(\"Sum error\")\n",
    "    plt.show()\n",
    "    print(\"m= \",parameter[1],\"c= \",parameter[0])\n",
    "    return parameter\n",
    "        "
   ]
  },
  {
   "cell_type": "code",
   "execution_count": 17,
   "metadata": {},
   "outputs": [
    {
     "name": "stdout",
     "output_type": "stream",
     "text": [
      "epoch  0 sum error :  13.593050246612497\n",
      "epoch  1 sum error :  12.689316840403439\n",
      "epoch  2 sum error :  11.845846756736124\n",
      "epoch  3 sum error :  11.05862164458711\n",
      "epoch  4 sum error :  10.323891090275795\n",
      "epoch  5 sum error :  9.638154752020075\n",
      "epoch  6 sum error :  8.998145685711913\n",
      "epoch  7 sum error :  8.400814782485764\n",
      "epoch  8 sum error :  7.8433162439486415\n",
      "epoch  9 sum error :  7.322994025883551\n",
      "epoch  10 sum error :  6.837369185851224\n",
      "epoch  11 sum error :  6.384128074420775\n",
      "epoch  12 sum error :  5.961111313778526\n",
      "epoch  13 sum error :  5.566303511214805\n",
      "epoch  14 sum error :  5.19782365848917\n",
      "epoch  15 sum error :  4.853916171341555\n",
      "epoch  16 sum error :  4.532942526466268\n",
      "epoch  17 sum error :  4.233373456111624\n",
      "epoch  18 sum error :  3.9537816631243228\n",
      "epoch  19 sum error :  3.6928350217367223\n",
      "epoch  20 sum error :  3.4492902317090666\n",
      "epoch  21 sum error :  3.221986895598144\n",
      "epoch  22 sum error :  3.0098419909395075\n",
      "epoch  23 sum error :  2.8118447110114664\n",
      "epoch  24 sum error :  2.627051649604848\n",
      "epoch  25 sum error :  2.454582306861125\n",
      "epoch  26 sum error :  2.2936148947709483\n",
      "epoch  27 sum error :  2.14338242235253\n",
      "epoch  28 sum error :  2.0031690418615544\n",
      "epoch  29 sum error :  1.872306638627757\n",
      "epoch  30 sum error :  1.7501716482737444\n",
      "epoch  31 sum error :  1.6361820861548335\n",
      "epoch  32 sum error :  1.5297947748695595\n",
      "epoch  33 sum error :  1.4305027566340014\n",
      "epoch  34 sum error :  1.3378328781936812\n",
      "epoch  35 sum error :  1.2513435367686845\n",
      "epoch  36 sum error :  1.1706225762947031\n",
      "epoch  37 sum error :  1.0952853239386529\n",
      "epoch  38 sum error :  1.024972757535692\n",
      "epoch  39 sum error :  0.9593497952181496\n",
      "epoch  40 sum error :  0.8981036990888871\n",
      "epoch  41 sum error :  0.840942585334892\n",
      "epoch  42 sum error :  0.7875940336839335\n",
      "epoch  43 sum error :  0.7378037895803097\n",
      "epoch  44 sum error :  0.6913345528974029\n",
      "epoch  45 sum error :  0.647964847416977\n",
      "epoch  46 sum error :  0.6074879656898552\n",
      "epoch  47 sum error :  0.5697109842517494\n",
      "epoch  48 sum error :  0.5344538445030939\n",
      "epoch  49 sum error :  0.5015484948745715\n",
      "epoch  50 sum error :  0.4708380901919187\n",
      "epoch  51 sum error :  0.4421762444261069\n",
      "epoch  52 sum error :  0.4154263332692579\n",
      "epoch  53 sum error :  0.390460843214029\n",
      "epoch  54 sum error :  0.36716076403571546\n",
      "epoch  55 sum error :  0.3454150217830504\n",
      "epoch  56 sum error :  0.3251199495766825\n",
      "epoch  57 sum error :  0.306178793694374\n",
      "epoch  58 sum error :  0.2885012525900753\n",
      "epoch  59 sum error :  0.27200304665090974\n",
      "epoch  60 sum error :  0.2566055166425142\n",
      "epoch  61 sum error :  0.24223524892985282\n",
      "epoch  62 sum error :  0.22882372568815962\n",
      "epoch  63 sum error :  0.2163069984377144\n",
      "epoch  64 sum error :  0.20462538334725064\n",
      "epoch  65 sum error :  0.1937231768545054\n",
      "epoch  66 sum error :  0.18354839024919192\n",
      "epoch  67 sum error :  0.17405250195400943\n",
      "epoch  68 sum error :  0.16519022632361183\n",
      "epoch  69 sum error :  0.15691929786013653\n",
      "epoch  70 sum error :  0.14920026981734774\n",
      "epoch  71 sum error :  0.14199632623396924\n",
      "epoch  72 sum error :  0.13527310650076585\n",
      "epoch  73 sum error :  0.12899854162564672\n",
      "epoch  74 sum error :  0.12314270141676686\n",
      "epoch  75 sum error :  0.11767765185563579\n",
      "epoch  76 sum error :  0.11257732198076527\n",
      "epoch  77 sum error :  0.10781737964770587\n",
      "epoch  78 sum error :  0.10337511557360386\n",
      "epoch  79 sum error :  0.09922933511386563\n",
      "epoch  80 sum error :  0.09536025725536246\n",
      "epoch  81 sum error :  0.0917494203449806\n",
      "epoch  82 sum error :  0.08837959410440638\n",
      "epoch  83 sum error :  0.08523469751197832\n",
      "epoch  84 sum error :  0.08229972216039778\n",
      "epoch  85 sum error :  0.0795606607251676\n",
      "epoch  86 sum error :  0.07700444020296932\n",
      "epoch  87 sum error :  0.07461885960192856\n",
      "epoch  88 sum error :  0.07239253178691132\n",
      "epoch  89 sum error :  0.0703148292027891\n",
      "epoch  90 sum error :  0.06837583321709616\n",
      "epoch  91 sum error :  0.06656628684073004\n",
      "epoch  92 sum error :  0.06487755060144733\n",
      "epoch  93 sum error :  0.06330156135992401\n",
      "epoch  94 sum error :  0.0618307938721669\n",
      "epoch  95 sum error :  0.06045822491514717\n",
      "epoch  96 sum error :  0.05917729980473735\n",
      "epoch  97 sum error :  0.057981901146428774\n",
      "epoch  98 sum error :  0.056866319669946284\n",
      "epoch  99 sum error :  0.05582522700879938\n",
      "epoch  100 sum error :  0.054853650295082705\n",
      "epoch  101 sum error :  0.05394694844847596\n",
      "epoch  102 sum error :  0.0531007900464733\n",
      "epoch  103 sum error :  0.05231113267040416\n",
      "epoch  104 sum error :  0.05157420362883118\n",
      "epoch  105 sum error :  0.05088648196648132\n",
      "epoch  106 sum error :  0.05024468167298644\n",
      "epoch  107 sum error :  0.04964573601142517\n",
      "epoch  108 sum error :  0.04908678289199548\n",
      "epoch  109 sum error :  0.04856515122112408\n",
      "epoch  110 sum error :  0.04807834816096679\n",
      "epoch  111 sum error :  0.04762404723859128\n",
      "epoch  112 sum error :  0.047200077248181684\n",
      "epoch  113 sum error :  0.04680441189338316\n",
      "epoch  114 sum error :  0.046435160120430405\n",
      "epoch  115 sum error :  0.04609055709599368\n",
      "epoch  116 sum error :  0.04576895578675097\n",
      "epoch  117 sum error :  0.045468819100558305\n",
      "epoch  118 sum error :  0.045188712551768664\n",
      "epoch  119 sum error :  0.04492729741574513\n",
      "epoch  120 sum error :  0.04468332433994508\n",
      "epoch  121 sum error :  0.04445562738113035\n",
      "epoch  122 sum error :  0.04424311844028275\n",
      "epoch  123 sum error :  0.04404478206870577\n",
      "epoch  124 sum error :  0.04385967062055735\n",
      "epoch  125 sum error :  0.043686899728711114\n",
      "epoch  126 sum error :  0.04352564408238334\n",
      "epoch  127 sum error :  0.04337513348640202\n",
      "epoch  128 sum error :  0.043234649183333626\n",
      "epoch  129 sum error :  0.04310352042094018\n",
      "epoch  130 sum error :  0.04298112124860201\n",
      "epoch  131 sum error :  0.042866867527439595\n",
      "epoch  132 sum error :  0.04276021413988009\n",
      "epoch  133 sum error :  0.04266065238536833\n",
      "epoch  134 sum error :  0.04256770754980756\n",
      "epoch  135 sum error :  0.04248093663714304\n",
      "epoch  136 sum error :  0.042399926252274886\n",
      "epoch  137 sum error :  0.04232429062520783\n",
      "epoch  138 sum error :  0.042253669767016305\n",
      "epoch  139 sum error :  0.04218772774883587\n",
      "epoch  140 sum error :  0.04212615109567322\n",
      "epoch  141 sum error :  0.04206864728737826\n",
      "epoch  142 sum error :  0.0420149433596304\n",
      "epoch  143 sum error :  0.04196478459826779\n",
      "epoch  144 sum error :  0.04191793332073411\n",
      "epoch  145 sum error :  0.04187416773883208\n",
      "epoch  146 sum error :  0.041833280897360096\n",
      "epoch  147 sum error :  0.04179507968357117\n",
      "epoch  148 sum error :  0.04175938390272967\n",
      "epoch  149 sum error :  0.04172602541535661\n",
      "epoch  150 sum error :  0.041694847332049485\n",
      "epoch  151 sum error :  0.041665703262035086\n",
      "epoch  152 sum error :  0.04163845661187215\n",
      "epoch  153 sum error :  0.041612979930957084\n",
      "epoch  154 sum error :  0.04158915430071183\n",
      "epoch  155 sum error :  0.04156686876453913\n",
      "epoch  156 sum error :  0.041546019795826075\n",
      "epoch  157 sum error :  0.04152651080145714\n",
      "epoch  158 sum error :  0.04150825165846776\n",
      "epoch  159 sum error :  0.041491158281629\n",
      "epoch  160 sum error :  0.04147515221989621\n",
      "epoch  161 sum error :  0.04146016027980075\n",
      "epoch  162 sum error :  0.04144611417398327\n",
      "epoch  163 sum error :  0.04143295019319217\n",
      "epoch  164 sum error :  0.04142060890018277\n",
      "epoch  165 sum error :  0.04140903484405482\n",
      "epoch  166 sum error :  0.04139817629366497\n",
      "epoch  167 sum error :  0.04138798498884075\n",
      "epoch  168 sum error :  0.0413784159082089\n",
      "epoch  169 sum error :  0.04136942705253044\n",
      "epoch  170 sum error :  0.041360979242504134\n",
      "epoch  171 sum error :  0.041353035930077255\n",
      "epoch  172 sum error :  0.04134556302235933\n",
      "epoch  173 sum error :  0.04133852871729811\n",
      "epoch  174 sum error :  0.04133190335033416\n",
      "epoch  175 sum error :  0.04132565925129969\n",
      "epoch  176 sum error :  0.04131977061087855\n",
      "epoch  177 sum error :  0.04131421335599014\n",
      "epoch  178 sum error :  0.04130896503349969\n",
      "epoch  179 sum error :  0.04130400470170002\n",
      "epoch  180 sum error :  0.041299312829047516\n",
      "epoch  181 sum error :  0.041294871199664886\n",
      "epoch  182 sum error :  0.04129066282516143\n",
      "epoch  183 sum error :  0.0412866718623488\n",
      "epoch  184 sum error :  0.04128288353645686\n",
      "epoch  185 sum error :  0.04127928406948522\n",
      "epoch  186 sum error :  0.04127586061334499\n",
      "epoch  187 sum error :  0.04127260118747168\n",
      "epoch  188 sum error :  0.04126949462061194\n",
      "epoch  189 sum error :  0.04126653049650292\n",
      "epoch  190 sum error :  0.04126369910318747\n",
      "epoch  191 sum error :  0.04126099138571875\n",
      "epoch  192 sum error :  0.0412583989020305\n",
      "epoch  193 sum error :  0.041255913781761196\n",
      "epoch  194 sum error :  0.04125352868783327\n",
      "epoch  195 sum error :  0.041251236780604675\n",
      "epoch  196 sum error :  0.04124903168442106\n",
      "epoch  197 sum error :  0.04124690745640666\n",
      "epoch  198 sum error :  0.04124485855734646\n",
      "epoch  199 sum error :  0.041242879824517825\n"
     ]
    },
    {
     "data": {
      "image/png": "[encoded data removed]",
      "text/plain": [
       "<Figure size 432x288 with 1 Axes>"
      ]
     },
     "metadata": {
      "needs_background": "light"
     },
     "output_type": "display_data"
    },
    {
     "name": "stdout",
     "output_type": "stream",
     "text": [
      "m=  0.45965692832413396 c=  0.5405770351680035\n",
      "updated parameters [0.5405770351680035, 0.45965692832413396]\n"
     ]
    }
   ],
   "source": [
    "x1=np.array([89,66,78,111,44,77,80,66,109,75,85,110,45,79,90,76,81],dtype='float64')\n",
    "y1=np.array([7,5.4,6.6,7.4,4.8,6.4,7,5.6,7.3,6.4,6.9,7.3,4.8,6.8,7,6.5,7],dtype='float64')\n",
    "# to normalize data... scaling of data...\n",
    "x=x1/np.mean(x1)  \n",
    "y=y1/np.mean(y1)\n",
    "#print(np.mean(x))\n",
    "parameter=[0.1,0.0]  #[c,m]\n",
    "alpha=0.001\n",
    "epoch=200\n",
    "up_parameter=fit(x,y,parameter,alpha,epoch)\n",
    "print(\"updated parameters\",up_parameter)\n"
   ]
  },
  {
   "cell_type": "code",
   "execution_count": 18,
   "metadata": {},
   "outputs": [
    {
     "name": "stdout",
     "output_type": "stream",
     "text": [
      "Actual  [1.07985481 0.83303085 1.01814882 1.1415608  0.74047187 0.98729583\n",
      " 1.07985481 0.86388385 1.1261343  0.98729583 1.06442831 1.1261343\n",
      " 0.74047187 1.04900181 1.07985481 1.00272232 1.07985481]\n",
      "Predicted [1.0515696380735249, 0.9195153699069295, 0.9884132489503705, 1.1778824163198336, 0.7932025916606208, 0.9826717590300837, 0.9998962287909441, 0.9195153699069295, 1.16639943647926, 0.9711887791895103, 1.0286036783923778, 1.1721409263995468, 0.7989440815809076, 0.9941547388706573, 1.0573111279938117, 0.9769302691097971, 1.0056377187112309]\n"
     ]
    }
   ],
   "source": [
    "#x=np.array([89,66,78,111,44,77,80,66,109,75,85,110,45,79,90,76,81],dtype='float64')\n",
    "#y=np.array([7,5.4,6.6,7.4,4.8,6.4,7,5.6,7.3,6.4,6.9,7.3,4.8,6.8,7,6.5,7],dtype='float64')\n",
    "#x=x/np.mean(x)\n",
    "#y=y/np.mean(y)\n",
    "y_hat=[predict(i,up_parameter) for i in x]\n",
    "print(\"Actual \",y)\n",
    "print(\"Predicted\", y_hat)"
   ]
  },
  {
   "cell_type": "code",
   "execution_count": 19,
   "metadata": {},
   "outputs": [
    {
     "data": {
      "image/png": "[encoded data removed]",
      "text/plain": [
       "<Figure size 432x288 with 1 Axes>"
      ]
     },
     "metadata": {
      "needs_background": "light"
     },
     "output_type": "display_data"
    }
   ],
   "source": [
    "plt.scatter(x,y)  # Original Data\n",
    "plt.plot(x,y_hat) #\n",
    "plt.show()"
   ]
  },
  {
   "cell_type": "code",
   "execution_count": 20,
   "metadata": {},
   "outputs": [
    {
     "name": "stdout",
     "output_type": "stream",
     "text": [
      "R Square 0.7291564181141981\n"
     ]
    }
   ],
   "source": [
    "#y_hat=y_hat/np.mean(y_hat)\n",
    "SSR,SST=0,0\n",
    "for i in range(len(y)):\n",
    "    SSR+=(y_hat[i]-np.mean(y))**2\n",
    "    SST+=(y[i]-np.mean(y))**2\n",
    "R_sqr = SSR/SST\n",
    "print(\"R Square\",R_sqr)"
   ]
  },
  {
   "cell_type": "code",
   "execution_count": 21,
   "metadata": {},
   "outputs": [
    {
     "name": "stdout",
     "output_type": "stream",
     "text": [
      "[0.5405770351680035, 0.45965692832413396]\n",
      "6.518898623645743\n"
     ]
    }
   ],
   "source": [
    "#y=? at x=81...\n",
    "print(up_parameter)\n",
    "y2=predict(81/np.mean(x1),up_parameter)\n",
    "print(y2*np.mean(y1))\n",
    "#print(np.mean(y1))"
   ]
  },
  {
   "cell_type": "code",
   "execution_count": null,
   "metadata": {},
   "outputs": [],
   "source": [
    "#EXPT #1:\n",
    "#Use sklearn to implement Simple Linear Regression Model using CO2 Emission Dataset."
   ]
  },
  {
   "cell_type": "code",
   "execution_count": 22,
   "metadata": {},
   "outputs": [],
   "source": [
    "import matplotlib.pyplot as plt\n",
    "import pandas as pd\n",
    "import pylab as pl\n",
    "import numpy as np"
   ]
  },
  {
   "cell_type": "code",
   "execution_count": 23,
   "metadata": {},
   "outputs": [
    {
     "data": {
      "text/html": [
       "<div>\n",
       "<style scoped>\n",
       "    .dataframe tbody tr th:only-of-type {\n",
       "        vertical-align: middle;\n",
       "    }\n",
       "\n",
       "    .dataframe tbody tr th {\n",
       "        vertical-align: top;\n",
       "    }\n",
       "\n",
       "    .dataframe thead th {\n",
       "        text-align: right;\n",
       "    }\n",
       "</style>\n",
       "<table border=\"1\" class=\"dataframe\">\n",
       "  <thead>\n",
       "    <tr style=\"text-align: right;\">\n",
       "      <th></th>\n",
       "      <th>MODELYEAR</th>\n",
       "      <th>MAKE</th>\n",
       "      <th>MODEL</th>\n",
       "      <th>VEHICLECLASS</th>\n",
       "      <th>ENGINESIZE</th>\n",
       "      <th>CYLINDERS</th>\n",
       "      <th>TRANSMISSION</th>\n",
       "      <th>FUEL</th>\n",
       "      <th>FUELCONSUMPTION_City</th>\n",
       "      <th>FUEL CONSUMPTION_HWY</th>\n",
       "      <th>FUELCONSUMPTION_COMB</th>\n",
       "      <th>CO2EMISSIONS</th>\n",
       "    </tr>\n",
       "  </thead>\n",
       "  <tbody>\n",
       "    <tr>\n",
       "      <th>0</th>\n",
       "      <td>2014</td>\n",
       "      <td>ACURA</td>\n",
       "      <td>ILX</td>\n",
       "      <td>COMPACT</td>\n",
       "      <td>2.0</td>\n",
       "      <td>4</td>\n",
       "      <td>AS5</td>\n",
       "      <td>Z</td>\n",
       "      <td>9.9</td>\n",
       "      <td>6.7</td>\n",
       "      <td>8.5</td>\n",
       "      <td>196</td>\n",
       "    </tr>\n",
       "    <tr>\n",
       "      <th>1</th>\n",
       "      <td>2014</td>\n",
       "      <td>ACURA</td>\n",
       "      <td>ILX</td>\n",
       "      <td>COMPACT</td>\n",
       "      <td>2.4</td>\n",
       "      <td>4</td>\n",
       "      <td>M6</td>\n",
       "      <td>Z</td>\n",
       "      <td>11.2</td>\n",
       "      <td>7.7</td>\n",
       "      <td>9.6</td>\n",
       "      <td>221</td>\n",
       "    </tr>\n",
       "    <tr>\n",
       "      <th>2</th>\n",
       "      <td>2014</td>\n",
       "      <td>ACURA</td>\n",
       "      <td>ILX HYBRID</td>\n",
       "      <td>COMPACT</td>\n",
       "      <td>1.5</td>\n",
       "      <td>4</td>\n",
       "      <td>AV7</td>\n",
       "      <td>Z</td>\n",
       "      <td>6.0</td>\n",
       "      <td>5.8</td>\n",
       "      <td>5.9</td>\n",
       "      <td>136</td>\n",
       "    </tr>\n",
       "    <tr>\n",
       "      <th>3</th>\n",
       "      <td>2014</td>\n",
       "      <td>ACURA</td>\n",
       "      <td>MDX 4WD</td>\n",
       "      <td>SUV - SMALL</td>\n",
       "      <td>3.5</td>\n",
       "      <td>6</td>\n",
       "      <td>AS6</td>\n",
       "      <td>Z</td>\n",
       "      <td>12.7</td>\n",
       "      <td>9.1</td>\n",
       "      <td>11.1</td>\n",
       "      <td>255</td>\n",
       "    </tr>\n",
       "    <tr>\n",
       "      <th>4</th>\n",
       "      <td>2014</td>\n",
       "      <td>ACURA</td>\n",
       "      <td>RDX AWD</td>\n",
       "      <td>SUV - SMALL</td>\n",
       "      <td>3.5</td>\n",
       "      <td>6</td>\n",
       "      <td>AS6</td>\n",
       "      <td>Z</td>\n",
       "      <td>12.1</td>\n",
       "      <td>8.7</td>\n",
       "      <td>10.6</td>\n",
       "      <td>244</td>\n",
       "    </tr>\n",
       "  </tbody>\n",
       "</table>\n",
       "</div>"
      ],
      "text/plain": [
       "   MODELYEAR   MAKE       MODEL VEHICLECLASS  ENGINESIZE  CYLINDERS  \\\n",
       "0       2014  ACURA         ILX      COMPACT         2.0          4   \n",
       "1       2014  ACURA         ILX      COMPACT         2.4          4   \n",
       "2       2014  ACURA  ILX HYBRID      COMPACT         1.5          4   \n",
       "3       2014  ACURA     MDX 4WD  SUV - SMALL         3.5          6   \n",
       "4       2014  ACURA     RDX AWD  SUV - SMALL         3.5          6   \n",
       "\n",
       "  TRANSMISSION FUEL  FUELCONSUMPTION_City  FUEL CONSUMPTION_HWY  \\\n",
       "0          AS5    Z                   9.9                   6.7   \n",
       "1           M6    Z                  11.2                   7.7   \n",
       "2          AV7    Z                   6.0                   5.8   \n",
       "3          AS6    Z                  12.7                   9.1   \n",
       "4          AS6    Z                  12.1                   8.7   \n",
       "\n",
       "   FUELCONSUMPTION_COMB  CO2EMISSIONS  \n",
       "0                   8.5           196  \n",
       "1                   9.6           221  \n",
       "2                   5.9           136  \n",
       "3                  11.1           255  \n",
       "4                  10.6           244  "
      ]
     },
     "execution_count": 23,
     "metadata": {},
     "output_type": "execute_result"
    }
   ],
   "source": [
    "df =pd.read_csv(\"FuelConsumption.csv\")\n",
    "df.head()"
   ]
  },
  {
   "cell_type": "code",
   "execution_count": null,
   "metadata": {},
   "outputs": [],
   "source": [
    "# summarize the data\n",
    "df.describe()"
   ]
  },
  {
   "cell_type": "code",
   "execution_count": 24,
   "metadata": {},
   "outputs": [
    {
     "data": {
      "text/html": [
       "<div>\n",
       "<style scoped>\n",
       "    .dataframe tbody tr th:only-of-type {\n",
       "        vertical-align: middle;\n",
       "    }\n",
       "\n",
       "    .dataframe tbody tr th {\n",
       "        vertical-align: top;\n",
       "    }\n",
       "\n",
       "    .dataframe thead th {\n",
       "        text-align: right;\n",
       "    }\n",
       "</style>\n",
       "<table border=\"1\" class=\"dataframe\">\n",
       "  <thead>\n",
       "    <tr style=\"text-align: right;\">\n",
       "      <th></th>\n",
       "      <th>ENGINESIZE</th>\n",
       "      <th>CYLINDERS</th>\n",
       "      <th>FUELCONSUMPTION_COMB</th>\n",
       "      <th>CO2EMISSIONS</th>\n",
       "    </tr>\n",
       "  </thead>\n",
       "  <tbody>\n",
       "    <tr>\n",
       "      <th>0</th>\n",
       "      <td>2.0</td>\n",
       "      <td>4</td>\n",
       "      <td>8.5</td>\n",
       "      <td>196</td>\n",
       "    </tr>\n",
       "    <tr>\n",
       "      <th>1</th>\n",
       "      <td>2.4</td>\n",
       "      <td>4</td>\n",
       "      <td>9.6</td>\n",
       "      <td>221</td>\n",
       "    </tr>\n",
       "    <tr>\n",
       "      <th>2</th>\n",
       "      <td>1.5</td>\n",
       "      <td>4</td>\n",
       "      <td>5.9</td>\n",
       "      <td>136</td>\n",
       "    </tr>\n",
       "    <tr>\n",
       "      <th>3</th>\n",
       "      <td>3.5</td>\n",
       "      <td>6</td>\n",
       "      <td>11.1</td>\n",
       "      <td>255</td>\n",
       "    </tr>\n",
       "    <tr>\n",
       "      <th>4</th>\n",
       "      <td>3.5</td>\n",
       "      <td>6</td>\n",
       "      <td>10.6</td>\n",
       "      <td>244</td>\n",
       "    </tr>\n",
       "  </tbody>\n",
       "</table>\n",
       "</div>"
      ],
      "text/plain": [
       "   ENGINESIZE  CYLINDERS  FUELCONSUMPTION_COMB  CO2EMISSIONS\n",
       "0         2.0          4                   8.5           196\n",
       "1         2.4          4                   9.6           221\n",
       "2         1.5          4                   5.9           136\n",
       "3         3.5          6                  11.1           255\n",
       "4         3.5          6                  10.6           244"
      ]
     },
     "execution_count": 24,
     "metadata": {},
     "output_type": "execute_result"
    }
   ],
   "source": [
    "#Which features can be selected...\n",
    "cdf = df[['ENGINESIZE','CYLINDERS','FUELCONSUMPTION_COMB','CO2EMISSIONS']]\n",
    "cdf.head()"
   ]
  },
  {
   "cell_type": "code",
   "execution_count": null,
   "metadata": {},
   "outputs": [],
   "source": [
    "# Histogram is constructed to check data is normalized or not...\n",
    "#viz = df[['CYLINDERS','ENGINESIZE','CO2EMISSIONS','FUELCONSUMPTION_COMB']]\n",
    "cdf.hist()\n",
    "plt.show()"
   ]
  },
  {
   "cell_type": "code",
   "execution_count": 25,
   "metadata": {},
   "outputs": [
    {
     "data": {
      "image/png": "[encoded data removed]",
      "text/plain": [
       "<Figure size 432x288 with 1 Axes>"
      ]
     },
     "metadata": {
      "needs_background": "light"
     },
     "output_type": "display_data"
    }
   ],
   "source": [
    "# Scatter plot to check correlation between two varaibles(features)\n",
    "plt.scatter(df.FUELCONSUMPTION_COMB, df.CO2EMISSIONS,color='red')\n",
    "plt.xlabel(\"FUELCONSUMPTION_COMB\")\n",
    "plt.ylabel(\"Emission\")\n",
    "plt.show()"
   ]
  },
  {
   "cell_type": "code",
   "execution_count": 26,
   "metadata": {},
   "outputs": [
    {
     "data": {
      "image/png": "[encoded data removed]",
      "text/plain": [
       "<Figure size 432x288 with 1 Axes>"
      ]
     },
     "metadata": {
      "needs_background": "light"
     },
     "output_type": "display_data"
    }
   ],
   "source": [
    "plt.scatter(df.ENGINESIZE, df.CO2EMISSIONS,  color='blue')\n",
    "plt.xlabel(\"Engine size\")\n",
    "plt.ylabel(\"Emission\")\n",
    "plt.show()"
   ]
  },
  {
   "cell_type": "code",
   "execution_count": 27,
   "metadata": {},
   "outputs": [
    {
     "data": {
      "image/png": "[encoded data removed]",
      "text/plain": [
       "<Figure size 432x288 with 1 Axes>"
      ]
     },
     "metadata": {
      "needs_background": "light"
     },
     "output_type": "display_data"
    }
   ],
   "source": [
    "plt.scatter(df.CYLINDERS, df.CO2EMISSIONS, color='blue')\n",
    "plt.xlabel(\"Cylinders\")\n",
    "plt.ylabel(\"Emission\")\n",
    "plt.show()"
   ]
  },
  {
   "cell_type": "code",
   "execution_count": 5,
   "metadata": {},
   "outputs": [
    {
     "name": "stdout",
     "output_type": "stream",
     "text": [
      "[ True False False ...  True  True  True]\n"
     ]
    }
   ],
   "source": [
    "# using sklearn for training and testing...\n",
    "msk = np.random.rand(len(df)) < 0.7\n",
    "print(msk)\n",
    "train = df[msk]  #70%\n",
    "test = df[~msk]"
   ]
  },
  {
   "cell_type": "code",
   "execution_count": null,
   "metadata": {},
   "outputs": [],
   "source": [
    "train.head()"
   ]
  },
  {
   "cell_type": "code",
   "execution_count": null,
   "metadata": {},
   "outputs": [],
   "source": [
    "print(\"No of Observation\",len(df))\n",
    "print(\"No of Observation selected for trainning \",len(train))\n",
    "print(\"No of observation selected for testing\",len(test))"
   ]
  },
  {
   "cell_type": "code",
   "execution_count": 6,
   "metadata": {},
   "outputs": [
    {
     "data": {
      "text/html": [
       "<div>\n",
       "<style scoped>\n",
       "    .dataframe tbody tr th:only-of-type {\n",
       "        vertical-align: middle;\n",
       "    }\n",
       "\n",
       "    .dataframe tbody tr th {\n",
       "        vertical-align: top;\n",
       "    }\n",
       "\n",
       "    .dataframe thead th {\n",
       "        text-align: right;\n",
       "    }\n",
       "</style>\n",
       "<table border=\"1\" class=\"dataframe\">\n",
       "  <thead>\n",
       "    <tr style=\"text-align: right;\">\n",
       "      <th></th>\n",
       "      <th>MODELYEAR</th>\n",
       "      <th>MAKE</th>\n",
       "      <th>MODEL</th>\n",
       "      <th>VEHICLECLASS</th>\n",
       "      <th>ENGINESIZE</th>\n",
       "      <th>CYLINDERS</th>\n",
       "      <th>TRANSMISSION</th>\n",
       "      <th>FUEL</th>\n",
       "      <th>FUELCONSUMPTION_City</th>\n",
       "      <th>FUEL CONSUMPTION_HWY</th>\n",
       "      <th>FUELCONSUMPTION_COMB</th>\n",
       "      <th>CO2EMISSIONS</th>\n",
       "    </tr>\n",
       "  </thead>\n",
       "  <tbody>\n",
       "    <tr>\n",
       "      <th>0</th>\n",
       "      <td>2014</td>\n",
       "      <td>ACURA</td>\n",
       "      <td>ILX</td>\n",
       "      <td>COMPACT</td>\n",
       "      <td>2.0</td>\n",
       "      <td>4</td>\n",
       "      <td>AS5</td>\n",
       "      <td>Z</td>\n",
       "      <td>9.9</td>\n",
       "      <td>6.7</td>\n",
       "      <td>8.5</td>\n",
       "      <td>196</td>\n",
       "    </tr>\n",
       "    <tr>\n",
       "      <th>3</th>\n",
       "      <td>2014</td>\n",
       "      <td>ACURA</td>\n",
       "      <td>MDX 4WD</td>\n",
       "      <td>SUV - SMALL</td>\n",
       "      <td>3.5</td>\n",
       "      <td>6</td>\n",
       "      <td>AS6</td>\n",
       "      <td>Z</td>\n",
       "      <td>12.7</td>\n",
       "      <td>9.1</td>\n",
       "      <td>11.1</td>\n",
       "      <td>255</td>\n",
       "    </tr>\n",
       "    <tr>\n",
       "      <th>4</th>\n",
       "      <td>2014</td>\n",
       "      <td>ACURA</td>\n",
       "      <td>RDX AWD</td>\n",
       "      <td>SUV - SMALL</td>\n",
       "      <td>3.5</td>\n",
       "      <td>6</td>\n",
       "      <td>AS6</td>\n",
       "      <td>Z</td>\n",
       "      <td>12.1</td>\n",
       "      <td>8.7</td>\n",
       "      <td>10.6</td>\n",
       "      <td>244</td>\n",
       "    </tr>\n",
       "    <tr>\n",
       "      <th>6</th>\n",
       "      <td>2014</td>\n",
       "      <td>ACURA</td>\n",
       "      <td>TL</td>\n",
       "      <td>MID-SIZE</td>\n",
       "      <td>3.5</td>\n",
       "      <td>6</td>\n",
       "      <td>AS6</td>\n",
       "      <td>Z</td>\n",
       "      <td>11.8</td>\n",
       "      <td>8.1</td>\n",
       "      <td>10.1</td>\n",
       "      <td>232</td>\n",
       "    </tr>\n",
       "    <tr>\n",
       "      <th>7</th>\n",
       "      <td>2014</td>\n",
       "      <td>ACURA</td>\n",
       "      <td>TL AWD</td>\n",
       "      <td>MID-SIZE</td>\n",
       "      <td>3.7</td>\n",
       "      <td>6</td>\n",
       "      <td>AS6</td>\n",
       "      <td>Z</td>\n",
       "      <td>12.8</td>\n",
       "      <td>9.0</td>\n",
       "      <td>11.1</td>\n",
       "      <td>255</td>\n",
       "    </tr>\n",
       "  </tbody>\n",
       "</table>\n",
       "</div>"
      ],
      "text/plain": [
       "   MODELYEAR   MAKE    MODEL VEHICLECLASS  ENGINESIZE  CYLINDERS TRANSMISSION  \\\n",
       "0       2014  ACURA      ILX      COMPACT         2.0          4          AS5   \n",
       "3       2014  ACURA  MDX 4WD  SUV - SMALL         3.5          6          AS6   \n",
       "4       2014  ACURA  RDX AWD  SUV - SMALL         3.5          6          AS6   \n",
       "6       2014  ACURA       TL     MID-SIZE         3.5          6          AS6   \n",
       "7       2014  ACURA   TL AWD     MID-SIZE         3.7          6          AS6   \n",
       "\n",
       "  FUEL  FUELCONSUMPTION_City  FUEL CONSUMPTION_HWY  FUELCONSUMPTION_COMB  \\\n",
       "0    Z                   9.9                   6.7                   8.5   \n",
       "3    Z                  12.7                   9.1                  11.1   \n",
       "4    Z                  12.1                   8.7                  10.6   \n",
       "6    Z                  11.8                   8.1                  10.1   \n",
       "7    Z                  12.8                   9.0                  11.1   \n",
       "\n",
       "   CO2EMISSIONS  \n",
       "0           196  \n",
       "3           255  \n",
       "4           244  \n",
       "6           232  \n",
       "7           255  "
      ]
     },
     "execution_count": 6,
     "metadata": {},
     "output_type": "execute_result"
    }
   ],
   "source": [
    "train.head()"
   ]
  },
  {
   "cell_type": "code",
   "execution_count": 29,
   "metadata": {},
   "outputs": [
    {
     "name": "stdout",
     "output_type": "stream",
     "text": [
      "Coefficients:  [[39.348736]]\n",
      "Intercept:  [123.87271397]\n"
     ]
    }
   ],
   "source": [
    "# selecting Enginesize and CO2Emission as independent and dependent varaibles...\n",
    "from sklearn import linear_model\n",
    "regx = linear_model.LinearRegression()\n",
    "train_x = np.asanyarray(train[['ENGINESIZE']])\n",
    "train_y = np.asanyarray(train[['CO2EMISSIONS']])\n",
    "regx.fit (train_x, train_y)\n",
    "# The coefficients\n",
    "print ('Coefficients: ', regx.coef_)  #m\n",
    "print ('Intercept: ',regx.intercept_)  #c "
   ]
  },
  {
   "cell_type": "code",
   "execution_count": 30,
   "metadata": {},
   "outputs": [
    {
     "data": {
      "text/plain": [
       "Text(0, 0.5, 'Emission')"
      ]
     },
     "execution_count": 30,
     "metadata": {},
     "output_type": "execute_result"
    },
    {
     "data": {
      "image/png": "[encoded data removed]",
      "text/plain": [
       "<Figure size 432x288 with 1 Axes>"
      ]
     },
     "metadata": {
      "needs_background": "light"
     },
     "output_type": "display_data"
    }
   ],
   "source": [
    "# plotting scatter plot and best fit line...\n",
    "plt.scatter(train.ENGINESIZE, train.CO2EMISSIONS,  color='blue')\n",
    "plt.plot(train_x, regx.coef_[0][0]*train_x + regx.intercept_[0], '-r')\n",
    "plt.xlabel(\"Engine size\")\n",
    "plt.ylabel(\"Emission\")"
   ]
  },
  {
   "cell_type": "code",
   "execution_count": 31,
   "metadata": {},
   "outputs": [
    {
     "name": "stdout",
     "output_type": "stream",
     "text": [
      "Mean absolute error: 22.40\n",
      "Residual sum of squares (MSE): 861.33\n",
      "R2-score: 0.71\n"
     ]
    }
   ],
   "source": [
    "# Model Evaluation\n",
    "# Mean Squared Error (MSE)\n",
    "# Mean Absolute Error\n",
    "# R-squared -->The higher the R-squared, the better the model fits your data. \n",
    "# Best possible score is 1.0 \n",
    "\n",
    "\n",
    "from sklearn.metrics import r2_score\n",
    "\n",
    "test_x = np.asanyarray(test[['ENGINESIZE']])\n",
    "test_y = np.asanyarray(test[['CO2EMISSIONS']])\n",
    "test_y_hat = regx.predict(test_x)\n",
    "\n",
    "print(\"Mean absolute error: %.2f\" % np.mean(np.absolute(test_y_hat - test_y)))\n",
    "print(\"Residual sum of squares (MSE): %.2f\" % np.mean((test_y_hat - test_y) ** 2))\n",
    "print(\"R2-score: %.2f\" % r2_score(test_y_hat , test_y) )\n"
   ]
  },
  {
   "cell_type": "code",
   "execution_count": 1,
   "metadata": {},
   "outputs": [],
   "source": [
    "## Multiple Linear Regression\n",
    "import matplotlib.pyplot as plt\n",
    "import pandas as pd\n",
    "import pylab as pl\n",
    "import numpy as np"
   ]
  },
  {
   "cell_type": "code",
   "execution_count": 2,
   "metadata": {},
   "outputs": [
    {
     "data": {
      "text/html": [
       "<div>\n",
       "<style scoped>\n",
       "    .dataframe tbody tr th:only-of-type {\n",
       "        vertical-align: middle;\n",
       "    }\n",
       "\n",
       "    .dataframe tbody tr th {\n",
       "        vertical-align: top;\n",
       "    }\n",
       "\n",
       "    .dataframe thead th {\n",
       "        text-align: right;\n",
       "    }\n",
       "</style>\n",
       "<table border=\"1\" class=\"dataframe\">\n",
       "  <thead>\n",
       "    <tr style=\"text-align: right;\">\n",
       "      <th></th>\n",
       "      <th>MODELYEAR</th>\n",
       "      <th>MAKE</th>\n",
       "      <th>MODEL</th>\n",
       "      <th>VEHICLECLASS</th>\n",
       "      <th>ENGINESIZE</th>\n",
       "      <th>CYLINDERS</th>\n",
       "      <th>TRANSMISSION</th>\n",
       "      <th>FUEL</th>\n",
       "      <th>FUELCONSUMPTION_City</th>\n",
       "      <th>FUEL CONSUMPTION_HWY</th>\n",
       "      <th>FUELCONSUMPTION_COMB</th>\n",
       "      <th>CO2EMISSIONS</th>\n",
       "    </tr>\n",
       "  </thead>\n",
       "  <tbody>\n",
       "    <tr>\n",
       "      <th>0</th>\n",
       "      <td>2014</td>\n",
       "      <td>ACURA</td>\n",
       "      <td>ILX</td>\n",
       "      <td>COMPACT</td>\n",
       "      <td>2.0</td>\n",
       "      <td>4</td>\n",
       "      <td>AS5</td>\n",
       "      <td>Z</td>\n",
       "      <td>9.9</td>\n",
       "      <td>6.7</td>\n",
       "      <td>8.5</td>\n",
       "      <td>196</td>\n",
       "    </tr>\n",
       "    <tr>\n",
       "      <th>1</th>\n",
       "      <td>2014</td>\n",
       "      <td>ACURA</td>\n",
       "      <td>ILX</td>\n",
       "      <td>COMPACT</td>\n",
       "      <td>2.4</td>\n",
       "      <td>4</td>\n",
       "      <td>M6</td>\n",
       "      <td>Z</td>\n",
       "      <td>11.2</td>\n",
       "      <td>7.7</td>\n",
       "      <td>9.6</td>\n",
       "      <td>221</td>\n",
       "    </tr>\n",
       "    <tr>\n",
       "      <th>2</th>\n",
       "      <td>2014</td>\n",
       "      <td>ACURA</td>\n",
       "      <td>ILX HYBRID</td>\n",
       "      <td>COMPACT</td>\n",
       "      <td>1.5</td>\n",
       "      <td>4</td>\n",
       "      <td>AV7</td>\n",
       "      <td>Z</td>\n",
       "      <td>6.0</td>\n",
       "      <td>5.8</td>\n",
       "      <td>5.9</td>\n",
       "      <td>136</td>\n",
       "    </tr>\n",
       "    <tr>\n",
       "      <th>3</th>\n",
       "      <td>2014</td>\n",
       "      <td>ACURA</td>\n",
       "      <td>MDX 4WD</td>\n",
       "      <td>SUV - SMALL</td>\n",
       "      <td>3.5</td>\n",
       "      <td>6</td>\n",
       "      <td>AS6</td>\n",
       "      <td>Z</td>\n",
       "      <td>12.7</td>\n",
       "      <td>9.1</td>\n",
       "      <td>11.1</td>\n",
       "      <td>255</td>\n",
       "    </tr>\n",
       "    <tr>\n",
       "      <th>4</th>\n",
       "      <td>2014</td>\n",
       "      <td>ACURA</td>\n",
       "      <td>RDX AWD</td>\n",
       "      <td>SUV - SMALL</td>\n",
       "      <td>3.5</td>\n",
       "      <td>6</td>\n",
       "      <td>AS6</td>\n",
       "      <td>Z</td>\n",
       "      <td>12.1</td>\n",
       "      <td>8.7</td>\n",
       "      <td>10.6</td>\n",
       "      <td>244</td>\n",
       "    </tr>\n",
       "  </tbody>\n",
       "</table>\n",
       "</div>"
      ],
      "text/plain": [
       "   MODELYEAR   MAKE       MODEL VEHICLECLASS  ENGINESIZE  CYLINDERS  \\\n",
       "0       2014  ACURA         ILX      COMPACT         2.0          4   \n",
       "1       2014  ACURA         ILX      COMPACT         2.4          4   \n",
       "2       2014  ACURA  ILX HYBRID      COMPACT         1.5          4   \n",
       "3       2014  ACURA     MDX 4WD  SUV - SMALL         3.5          6   \n",
       "4       2014  ACURA     RDX AWD  SUV - SMALL         3.5          6   \n",
       "\n",
       "  TRANSMISSION FUEL  FUELCONSUMPTION_City  FUEL CONSUMPTION_HWY  \\\n",
       "0          AS5    Z                   9.9                   6.7   \n",
       "1           M6    Z                  11.2                   7.7   \n",
       "2          AV7    Z                   6.0                   5.8   \n",
       "3          AS6    Z                  12.7                   9.1   \n",
       "4          AS6    Z                  12.1                   8.7   \n",
       "\n",
       "   FUELCONSUMPTION_COMB  CO2EMISSIONS  \n",
       "0                   8.5           196  \n",
       "1                   9.6           221  \n",
       "2                   5.9           136  \n",
       "3                  11.1           255  \n",
       "4                  10.6           244  "
      ]
     },
     "execution_count": 2,
     "metadata": {},
     "output_type": "execute_result"
    }
   ],
   "source": [
    "df = pd.read_csv(\"FuelConsumption.csv\")\n",
    "df.head()"
   ]
  },
  {
   "cell_type": "code",
   "execution_count": 3,
   "metadata": {},
   "outputs": [
    {
     "data": {
      "text/html": [
       "<div>\n",
       "<style scoped>\n",
       "    .dataframe tbody tr th:only-of-type {\n",
       "        vertical-align: middle;\n",
       "    }\n",
       "\n",
       "    .dataframe tbody tr th {\n",
       "        vertical-align: top;\n",
       "    }\n",
       "\n",
       "    .dataframe thead th {\n",
       "        text-align: right;\n",
       "    }\n",
       "</style>\n",
       "<table border=\"1\" class=\"dataframe\">\n",
       "  <thead>\n",
       "    <tr style=\"text-align: right;\">\n",
       "      <th></th>\n",
       "      <th>ENGINESIZE</th>\n",
       "      <th>CYLINDERS</th>\n",
       "      <th>FUELCONSUMPTION_City</th>\n",
       "      <th>FUEL CONSUMPTION_HWY</th>\n",
       "      <th>FUELCONSUMPTION_COMB</th>\n",
       "      <th>CO2EMISSIONS</th>\n",
       "    </tr>\n",
       "  </thead>\n",
       "  <tbody>\n",
       "    <tr>\n",
       "      <th>0</th>\n",
       "      <td>2.0</td>\n",
       "      <td>4</td>\n",
       "      <td>9.9</td>\n",
       "      <td>6.7</td>\n",
       "      <td>8.5</td>\n",
       "      <td>196</td>\n",
       "    </tr>\n",
       "    <tr>\n",
       "      <th>1</th>\n",
       "      <td>2.4</td>\n",
       "      <td>4</td>\n",
       "      <td>11.2</td>\n",
       "      <td>7.7</td>\n",
       "      <td>9.6</td>\n",
       "      <td>221</td>\n",
       "    </tr>\n",
       "    <tr>\n",
       "      <th>2</th>\n",
       "      <td>1.5</td>\n",
       "      <td>4</td>\n",
       "      <td>6.0</td>\n",
       "      <td>5.8</td>\n",
       "      <td>5.9</td>\n",
       "      <td>136</td>\n",
       "    </tr>\n",
       "    <tr>\n",
       "      <th>3</th>\n",
       "      <td>3.5</td>\n",
       "      <td>6</td>\n",
       "      <td>12.7</td>\n",
       "      <td>9.1</td>\n",
       "      <td>11.1</td>\n",
       "      <td>255</td>\n",
       "    </tr>\n",
       "    <tr>\n",
       "      <th>4</th>\n",
       "      <td>3.5</td>\n",
       "      <td>6</td>\n",
       "      <td>12.1</td>\n",
       "      <td>8.7</td>\n",
       "      <td>10.6</td>\n",
       "      <td>244</td>\n",
       "    </tr>\n",
       "  </tbody>\n",
       "</table>\n",
       "</div>"
      ],
      "text/plain": [
       "   ENGINESIZE  CYLINDERS  FUELCONSUMPTION_City  FUEL CONSUMPTION_HWY  \\\n",
       "0         2.0          4                   9.9                   6.7   \n",
       "1         2.4          4                  11.2                   7.7   \n",
       "2         1.5          4                   6.0                   5.8   \n",
       "3         3.5          6                  12.7                   9.1   \n",
       "4         3.5          6                  12.1                   8.7   \n",
       "\n",
       "   FUELCONSUMPTION_COMB  CO2EMISSIONS  \n",
       "0                   8.5           196  \n",
       "1                   9.6           221  \n",
       "2                   5.9           136  \n",
       "3                  11.1           255  \n",
       "4                  10.6           244  "
      ]
     },
     "execution_count": 3,
     "metadata": {},
     "output_type": "execute_result"
    }
   ],
   "source": [
    "cdf = df[['ENGINESIZE','CYLINDERS','FUELCONSUMPTION_City','FUEL CONSUMPTION_HWY','FUELCONSUMPTION_COMB','CO2EMISSIONS']]\n",
    "cdf.head()"
   ]
  },
  {
   "cell_type": "code",
   "execution_count": null,
   "metadata": {},
   "outputs": [],
   "source": [
    "plt.scatter(train.ENGINESIZE, train.CO2EMISSIONS,  color='blue')\n",
    "plt.xlabel(\"Engine size\")\n",
    "plt.ylabel(\"Emission\")\n",
    "plt.show()"
   ]
  },
  {
   "cell_type": "code",
   "execution_count": null,
   "metadata": {},
   "outputs": [],
   "source": [
    "plt.scatter(train.CYLINDERS, train.CO2EMISSIONS,  color='blue')\n",
    "plt.xlabel(\"CYLINDERS\")\n",
    "plt.ylabel(\"CO2EMISSIONS\")\n",
    "plt.show()"
   ]
  },
  {
   "cell_type": "code",
   "execution_count": null,
   "metadata": {},
   "outputs": [],
   "source": [
    "plt.scatter(train.FUELCONSUMPTION_COMB, train.CO2EMISSIONS,  color='blue')\n",
    "plt.xlabel(\"Engine size\")\n",
    "plt.ylabel(\"FUELCONSUMPTION_COMB\")\n",
    "plt.show()"
   ]
  },
  {
   "cell_type": "code",
   "execution_count": 7,
   "metadata": {},
   "outputs": [
    {
     "name": "stdout",
     "output_type": "stream",
     "text": [
      "Coefficients:  [[10.24349785  7.44901107  9.9659721 ]]\n",
      "Intercept:  [63.84352252]\n"
     ]
    }
   ],
   "source": [
    "from sklearn import linear_model\n",
    "regr = linear_model.LinearRegression()\n",
    "x = np.asanyarray(train[['ENGINESIZE','CYLINDERS','FUELCONSUMPTION_COMB']]) #x1 x2 x3\n",
    "y = np.asanyarray(train[['CO2EMISSIONS']])  #y\n",
    "regr.fit (x, y)\n",
    "\n",
    "#y hat = c + x1m1+ x2m2+x3m3   // coe or para\n",
    "\n",
    "# The coefficients\n",
    "print ('Coefficients: ', regr.coef_)  #m1,m2,m3\n",
    "print ('Intercept: ',regr.intercept_)  #c "
   ]
  },
  {
   "cell_type": "code",
   "execution_count": 8,
   "metadata": {},
   "outputs": [
    {
     "name": "stdout",
     "output_type": "stream",
     "text": [
      "Residual sum of squares: 551.63\n",
      "Variance score: 0.86\n"
     ]
    }
   ],
   "source": [
    "y_hat= regr.predict(test[['ENGINESIZE','CYLINDERS','FUELCONSUMPTION_COMB']])\n",
    "x = np.asanyarray(test[['ENGINESIZE','CYLINDERS','FUELCONSUMPTION_COMB']])\n",
    "y = np.asanyarray(test[['CO2EMISSIONS']])\n",
    "print(\"Residual sum of squares: %.2f\"\n",
    "      % np.mean((y_hat - y) ** 2))\n",
    "\n",
    "# Explained variance score: 1 is perfect prediction\n",
    "print('Variance score: %.2f' % regr.score(x, y))"
   ]
  },
  {
   "cell_type": "code",
   "execution_count": 10,
   "metadata": {},
   "outputs": [],
   "source": [
    "## Multinear Regression From Scrach....\n",
    "import numpy as np"
   ]
  },
  {
   "cell_type": "code",
   "execution_count": 11,
   "metadata": {},
   "outputs": [
    {
     "name": "stdout",
     "output_type": "stream",
     "text": [
      "[[   1 1000   10   80]\n",
      " [   1 2000   30   90]\n",
      " [   1 4500   60  100]\n",
      " [   1 5000   80  200]]\n",
      "[[10]\n",
      " [15]\n",
      " [30]\n",
      " [50]]\n"
     ]
    }
   ],
   "source": [
    "X = np.matrix([[1,1000,10,80],[1,2000,30,90],[1,4500,60,100],[1,5000,80,200]]) #4 data x0,x1,x2,x3\n",
    "Y = np.matrix([[10],[15],[30],[50]])\n",
    "print(X)\n",
    "print(Y)"
   ]
  },
  {
   "cell_type": "code",
   "execution_count": 12,
   "metadata": {},
   "outputs": [
    {
     "data": {
      "text/plain": [
       "matrix([[   1,    1,    1,    1],\n",
       "        [1000, 2000, 4500, 5000],\n",
       "        [  10,   30,   60,   80],\n",
       "        [  80,   90,  100,  200]])"
      ]
     },
     "execution_count": 12,
     "metadata": {},
     "output_type": "execute_result"
    }
   ],
   "source": [
    "XT = X.T \n",
    "XT"
   ]
  },
  {
   "cell_type": "code",
   "execution_count": 13,
   "metadata": {},
   "outputs": [],
   "source": [
    "XTX_inv = np.dot(XT,X).I"
   ]
  },
  {
   "cell_type": "code",
   "execution_count": 14,
   "metadata": {},
   "outputs": [
    {
     "name": "stdout",
     "output_type": "stream",
     "text": [
      "[[-1.28571429e+01]\n",
      " [ 8.57142857e-03]\n",
      " [-2.85714286e-01]\n",
      " [ 2.14285714e-01]]\n"
     ]
    }
   ],
   "source": [
    "B = np.dot(XTX_inv , np.dot(XT,Y))\n",
    "print(B)  # c m1 m2 m3"
   ]
  },
  {
   "cell_type": "code",
   "execution_count": 15,
   "metadata": {},
   "outputs": [],
   "source": [
    "y_hat = np.dot(X,B)"
   ]
  },
  {
   "cell_type": "code",
   "execution_count": 16,
   "metadata": {},
   "outputs": [
    {
     "name": "stdout",
     "output_type": "stream",
     "text": [
      "[[10]\n",
      " [15]\n",
      " [30]\n",
      " [50]]\n",
      "[[10.]\n",
      " [15.]\n",
      " [30.]\n",
      " [50.]]\n"
     ]
    }
   ],
   "source": [
    "print(Y)\n",
    "print(y_hat)"
   ]
  },
  {
   "cell_type": "code",
   "execution_count": 17,
   "metadata": {},
   "outputs": [
    {
     "data": {
      "text/plain": [
       "matrix([[ 3.68238773e-12],\n",
       "        [ 2.34123831e-12],\n",
       "        [-7.10542736e-13],\n",
       "        [-6.89226454e-13]])"
      ]
     },
     "execution_count": 17,
     "metadata": {},
     "output_type": "execute_result"
    }
   ],
   "source": [
    "error = Y-y_hat\n",
    "error"
   ]
  },
  {
   "cell_type": "code",
   "execution_count": 18,
   "metadata": {},
   "outputs": [],
   "source": [
    "error_T = error.T"
   ]
  },
  {
   "cell_type": "code",
   "execution_count": 19,
   "metadata": {},
   "outputs": [
    {
     "data": {
      "text/plain": [
       "matrix([[ 3.68238773e-12,  2.34123831e-12, -7.10542736e-13,\n",
       "         -6.89226454e-13]])"
      ]
     },
     "execution_count": 19,
     "metadata": {},
     "output_type": "execute_result"
    }
   ],
   "source": [
    "error_T"
   ]
  },
  {
   "cell_type": "code",
   "execution_count": 20,
   "metadata": {},
   "outputs": [],
   "source": [
    "SSR = np.dot(error_T,error)"
   ]
  },
  {
   "cell_type": "code",
   "execution_count": null,
   "metadata": {},
   "outputs": [],
   "source": [
    "SSR"
   ]
  },
  {
   "cell_type": "code",
   "execution_count": 21,
   "metadata": {},
   "outputs": [],
   "source": [
    "eps = np.sqrt(SSR)"
   ]
  },
  {
   "cell_type": "code",
   "execution_count": null,
   "metadata": {},
   "outputs": [],
   "source": [
    "eps"
   ]
  },
  {
   "cell_type": "code",
   "execution_count": 22,
   "metadata": {},
   "outputs": [
    {
     "data": {
      "text/plain": [
       "matrix([[29.28571429]])"
      ]
     },
     "execution_count": 22,
     "metadata": {},
     "output_type": "execute_result"
    }
   ],
   "source": [
    "yhat = np.dot([[1,10000,160,10]],B)\n",
    "yhat"
   ]
  },
  {
   "cell_type": "code",
   "execution_count": null,
   "metadata": {},
   "outputs": [],
   "source": [
    "## Bike Dataset... Hour Dataset..."
   ]
  },
  {
   "cell_type": "code",
   "execution_count": null,
   "metadata": {},
   "outputs": [],
   "source": [
    "def make_X_mat(dataset):\n",
    "    X = []\n",
    "    for i in range(len(dataset)):\n",
    "        X.append([1])\n",
    "        \n",
    "        X[i]+=(dataset[i])\n",
    "    return np.matrix(X)\n",
    "\n"
   ]
  },
  {
   "cell_type": "code",
   "execution_count": null,
   "metadata": {},
   "outputs": [],
   "source": [
    "def get_Beta(X,Y):\n",
    "    XT = X.T\n",
    "    XTX_inv = np.dot(XT,X).I\n",
    "    return np.dot(XTX_inv , np.dot(XT,Y))"
   ]
  },
  {
   "cell_type": "code",
   "execution_count": null,
   "metadata": {},
   "outputs": [],
   "source": [
    "def predict(X,B):\n",
    "    return(np.dot(X,B))"
   ]
  },
  {
   "cell_type": "code",
   "execution_count": null,
   "metadata": {},
   "outputs": [],
   "source": [
    "import matplotlib.pyplot as plt\n",
    "#%matplotlib notebook\n",
    "import pandas as pd"
   ]
  },
  {
   "cell_type": "code",
   "execution_count": null,
   "metadata": {},
   "outputs": [],
   "source": [
    "# Using Bike Hours Data...\n",
    "df = pd.read_csv('hour.csv')\n",
    "df.head()"
   ]
  },
  {
   "cell_type": "code",
   "execution_count": null,
   "metadata": {
    "scrolled": true
   },
   "outputs": [],
   "source": [
    "df.drop(['dteday'],axis=1,inplace=True)\n",
    "df.drop(['instant'],1,inplace = True)\n",
    "full_data = df.astype(float).values.tolist()\n"
   ]
  },
  {
   "cell_type": "code",
   "execution_count": null,
   "metadata": {},
   "outputs": [],
   "source": [
    "df.head()\n",
    "#full_data"
   ]
  },
  {
   "cell_type": "code",
   "execution_count": null,
   "metadata": {},
   "outputs": [],
   "source": [
    "Xdat = df.drop(['cnt'],1).astype(float).values.tolist()\n",
    "Xdat"
   ]
  },
  {
   "cell_type": "code",
   "execution_count": null,
   "metadata": {},
   "outputs": [],
   "source": [
    "Y = np.matrix(full_data)[:,-1]  \n",
    "Y"
   ]
  },
  {
   "cell_type": "code",
   "execution_count": null,
   "metadata": {},
   "outputs": [],
   "source": [
    "X = make_X_mat(Xdat)"
   ]
  },
  {
   "cell_type": "code",
   "execution_count": null,
   "metadata": {},
   "outputs": [],
   "source": [
    "B =get_Beta(X,Y)\n",
    "B"
   ]
  },
  {
   "cell_type": "code",
   "execution_count": null,
   "metadata": {},
   "outputs": [],
   "source": [
    "yhat = predict(X,B)"
   ]
  },
  {
   "cell_type": "code",
   "execution_count": null,
   "metadata": {},
   "outputs": [],
   "source": [
    "print(Y)\n",
    "np.matrix(yhat)"
   ]
  },
  {
   "cell_type": "code",
   "execution_count": null,
   "metadata": {},
   "outputs": [],
   "source": [
    "eps = Y-yhat"
   ]
  },
  {
   "cell_type": "code",
   "execution_count": null,
   "metadata": {},
   "outputs": [],
   "source": [
    "eps"
   ]
  },
  {
   "cell_type": "code",
   "execution_count": null,
   "metadata": {},
   "outputs": [],
   "source": [
    "epst = eps.T\n",
    "epst"
   ]
  },
  {
   "cell_type": "code",
   "execution_count": null,
   "metadata": {},
   "outputs": [],
   "source": [
    "#E=np.dot(eps,epst)"
   ]
  },
  {
   "cell_type": "code",
   "execution_count": null,
   "metadata": {},
   "outputs": [],
   "source": [
    "#Using Co2Emisson data...."
   ]
  },
  {
   "cell_type": "code",
   "execution_count": null,
   "metadata": {},
   "outputs": [],
   "source": [
    "df = pd.read_csv(\"FuelConsumption.csv\")\n",
    "df.head()"
   ]
  },
  {
   "cell_type": "code",
   "execution_count": null,
   "metadata": {},
   "outputs": [],
   "source": [
    "#df.drop(['ModelYear'],1,inplace = True)\n",
    "#df.drop(['Make'],1,inplace = True)\n",
    "mdf_x = df[['ENGINESIZE','CYLINDERS','FUELCONSUMPTION_COMB']]\n",
    "X_dat = mdf_x.astype(float).values.tolist()"
   ]
  },
  {
   "cell_type": "code",
   "execution_count": null,
   "metadata": {},
   "outputs": [],
   "source": [
    "Y= df[['CO2EMISSIONS']]\n",
    "Y = Y.astype(float).values.tolist()"
   ]
  },
  {
   "cell_type": "code",
   "execution_count": null,
   "metadata": {},
   "outputs": [],
   "source": [
    "Y = np.matrix(Y)"
   ]
  },
  {
   "cell_type": "code",
   "execution_count": null,
   "metadata": {},
   "outputs": [],
   "source": [
    "X = make_X_mat(X_dat)"
   ]
  },
  {
   "cell_type": "code",
   "execution_count": null,
   "metadata": {},
   "outputs": [],
   "source": [
    "B =get_Beta(X,Y)"
   ]
  },
  {
   "cell_type": "code",
   "execution_count": null,
   "metadata": {},
   "outputs": [],
   "source": [
    "yhat = predict(X,B)"
   ]
  },
  {
   "cell_type": "code",
   "execution_count": null,
   "metadata": {},
   "outputs": [],
   "source": [
    "eps = Y-yhat"
   ]
  },
  {
   "cell_type": "code",
   "execution_count": null,
   "metadata": {},
   "outputs": [],
   "source": [
    "epsT=eps.T"
   ]
  },
  {
   "cell_type": "code",
   "execution_count": null,
   "metadata": {},
   "outputs": [],
   "source": [
    "epsT"
   ]
  },
  {
   "cell_type": "code",
   "execution_count": null,
   "metadata": {},
   "outputs": [],
   "source": [
    "SSR = np.dot(epsT,eps)"
   ]
  },
  {
   "cell_type": "code",
   "execution_count": null,
   "metadata": {},
   "outputs": [],
   "source": [
    "SSR/len(eps)"
   ]
  },
  {
   "cell_type": "code",
   "execution_count": null,
   "metadata": {},
   "outputs": [],
   "source": [
    "B\n",
    "Coefficients:  [[9.88920533 8.08267893 9.92484066]]\n",
    "Intercept:  [61.9804518]"
   ]
  },
  {
   "cell_type": "code",
   "execution_count": null,
   "metadata": {},
   "outputs": [],
   "source": [
    "print(predict([3.5,6,11,1],B))"
   ]
  },
  {
   "cell_type": "code",
   "execution_count": null,
   "metadata": {},
   "outputs": [],
   "source": []
  }
 ],
 "metadata": {
  "kernelspec": {
   "display_name": "Python 3 (ipykernel)",
   "language": "python",
   "name": "python3"
  },
  "language_info": {
   "codemirror_mode": {
    "name": "ipython",
    "version": 3
   },
   "file_extension": ".py",
   "mimetype": "text/x-python",
   "name": "python",
   "nbconvert_exporter": "python",
   "pygments_lexer": "ipython3",
   "version": "3.9.7"
  }
 },
 "nbformat": 4,
 "nbformat_minor": 4
}
