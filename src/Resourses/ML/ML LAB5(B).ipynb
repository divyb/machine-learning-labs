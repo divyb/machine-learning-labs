{
 "cells": [
  {
   "cell_type": "code",
   "execution_count": 4,
   "id": "d27028b8",
   "metadata": {},
   "outputs": [],
   "source": [
    "import numpy as np\n",
    "import matplotlib.pyplot as plt"
   ]
  },
  {
   "cell_type": "code",
   "execution_count": 5,
   "id": "fac411bb",
   "metadata": {},
   "outputs": [],
   "source": [
    "class GradientDescent:\n",
    "    def __init__(self, learning_rate=0.01, iterations=1000):\n",
    "        self.learning_rate, self.iterations = learning_rate, iterations\n",
    "    \n",
    "    def fit(self, X, y):\n",
    "        b = 0\n",
    "        m = 5\n",
    "        n = X.shape[0]\n",
    "        for _ in range(self.iterations):\n",
    "            b_gradient = -2 * np.sum(y - m*X + b) / n\n",
    "            m_gradient = -2 * np.sum(X*(y - (m*X + b))) / n\n",
    "            b = b + (self.learning_rate * b_gradient)\n",
    "            m = m - (self.learning_rate * m_gradient)\n",
    "        self.m, self.b = m, b\n",
    "        \n",
    "    def predict(self, X):\n",
    "        return self.m*X + self.b"
   ]
  },
  {
   "cell_type": "code",
   "execution_count": 13,
   "id": "c4534c09",
   "metadata": {},
   "outputs": [],
   "source": [
    "np.random.seed(67)\n",
    "X = np.array(sorted(list(range(5))*20)) + np.random.normal(size=100, scale=0.5)\n",
    "Y = np.array(sorted(list(range(5))*20)) + np.random.normal(size=100, scale=0.5)"
   ]
  },
  {
   "cell_type": "code",
   "execution_count": 14,
   "id": "16af11a7",
   "metadata": {},
   "outputs": [
    {
     "data": {
      "text/plain": [
       "[<matplotlib.lines.Line2D at 0x50979e8>]"
      ]
     },
     "execution_count": 14,
     "metadata": {},
     "output_type": "execute_result"
    },
    {
     "data": {
      "image/png": "[encoded data removed]",
      "text/plain": [
       "<Figure size 432x288 with 1 Axes>"
      ]
     },
     "metadata": {
      "needs_background": "light"
     },
     "output_type": "display_data"
    }
   ],
   "source": [
    "clf = GradientDescent()\n",
    "clf.fit(X, Y)\n",
    "\n",
    "plt.scatter(X, Y)\n",
    "plt.plot(X, clf.predict(X))"
   ]
  },
  {
   "cell_type": "code",
   "execution_count": 15,
   "id": "0841860e",
   "metadata": {},
   "outputs": [
    {
     "data": {
      "text/plain": [
       "-0.07322118609416547"
      ]
     },
     "execution_count": 15,
     "metadata": {},
     "output_type": "execute_result"
    }
   ],
   "source": [
    "clf.b"
   ]
  },
  {
   "cell_type": "code",
   "execution_count": 16,
   "id": "5c4d361c",
   "metadata": {},
   "outputs": [
    {
     "data": {
      "text/plain": [
       "1.0151548077883628"
      ]
     },
     "execution_count": 16,
     "metadata": {},
     "output_type": "execute_result"
    }
   ],
   "source": [
    "clf.m"
   ]
  },
  {
   "cell_type": "code",
   "execution_count": null,
   "id": "c3654e9e",
   "metadata": {},
   "outputs": [],
   "source": []
  }
 ],
 "metadata": {
  "kernelspec": {
   "display_name": "Python 3",
   "language": "python",
   "name": "python3"
  },
  "language_info": {
   "codemirror_mode": {
    "name": "ipython",
    "version": 3
   },
   "file_extension": ".py",
   "mimetype": "text/x-python",
   "name": "python",
   "nbconvert_exporter": "python",
   "pygments_lexer": "ipython3",
   "version": "3.8.2"
  }
 },
 "nbformat": 4,
 "nbformat_minor": 5
}
