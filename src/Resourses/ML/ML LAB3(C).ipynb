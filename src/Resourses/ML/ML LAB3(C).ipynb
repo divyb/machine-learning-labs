{
 "cells": [
  {
   "cell_type": "code",
   "execution_count": 1,
   "id": "6cd0e453",
   "metadata": {},
   "outputs": [],
   "source": [
    "import pandas as pd\n",
    "import numpy as np\n",
    "from sklearn import preprocessing"
   ]
  },
  {
   "cell_type": "code",
   "execution_count": 2,
   "id": "6092c1a3",
   "metadata": {},
   "outputs": [
    {
     "data": {
      "text/plain": [
       "array([[  4,  75, 585],\n",
       "       [  4,  57, 692],\n",
       "       [  3,  51, 617],\n",
       "       [  4,  87, 561],\n",
       "       [  9,  91, 606],\n",
       "       [  6,  63, 614],\n",
       "       [  9,  69, 565],\n",
       "       [  0,  89, 546],\n",
       "       [  8,  67, 541],\n",
       "       [  3,  58, 676]])"
      ]
     },
     "execution_count": 2,
     "metadata": {},
     "output_type": "execute_result"
    }
   ],
   "source": [
    "a = np.random.randint(10, size=(10,1))\n",
    "b = np.random.randint(50, 100, size=(10,1))\n",
    "c = np.random.randint(500, 700, size=(10,1))\n",
    "X = np.concatenate((a, b, c), axis=1)\n",
    "X"
   ]
  },
  {
   "cell_type": "code",
   "execution_count": 3,
   "id": "b1791a3b",
   "metadata": {},
   "outputs": [
    {
     "data": {
      "text/plain": [
       "array([  5. ,  70.7, 600.3])"
      ]
     },
     "execution_count": 3,
     "metadata": {},
     "output_type": "execute_result"
    }
   ],
   "source": [
    "X.mean(axis=0)"
   ]
  },
  {
   "cell_type": "code",
   "execution_count": 4,
   "id": "5ddf72e8",
   "metadata": {},
   "outputs": [
    {
     "data": {
      "text/plain": [
       "array([ 2.79284801, 13.57976436, 49.12036238])"
      ]
     },
     "execution_count": 4,
     "metadata": {},
     "output_type": "execute_result"
    }
   ],
   "source": [
    "X.std(axis=0)"
   ]
  },
  {
   "cell_type": "code",
   "execution_count": 5,
   "id": "2fae3bd3",
   "metadata": {},
   "outputs": [],
   "source": [
    "sc = preprocessing.StandardScaler().fit(X)"
   ]
  },
  {
   "cell_type": "code",
   "execution_count": 6,
   "id": "4e2619cc",
   "metadata": {},
   "outputs": [
    {
     "data": {
      "text/plain": [
       "array([[-0.35805744,  0.31664762, -0.31147979],\n",
       "       [-0.35805744, -1.00885403,  1.86684291],\n",
       "       [-0.71611487, -1.45068791,  0.33998121],\n",
       "       [-0.35805744,  1.20031538, -0.80007553],\n",
       "       [ 1.43222975,  1.4948713 ,  0.11604149],\n",
       "       [ 0.35805744, -0.56702015,  0.27890674],\n",
       "       [ 1.43222975, -0.12518627, -0.71864291],\n",
       "       [-1.79028719,  1.34759334, -1.10544787],\n",
       "       [ 1.07417231, -0.27246423, -1.20723865],\n",
       "       [-0.71611487, -0.93521505,  1.54111241]])"
      ]
     },
     "execution_count": 6,
     "metadata": {},
     "output_type": "execute_result"
    }
   ],
   "source": [
    "X_Standardized = sc.transform(X)\n",
    "X_Standardized"
   ]
  },
  {
   "cell_type": "code",
   "execution_count": 7,
   "id": "6c11cf11",
   "metadata": {},
   "outputs": [
    {
     "data": {
      "text/plain": [
       "array([ 1.11022302e-17, -2.22044605e-16,  9.10382880e-16])"
      ]
     },
     "execution_count": 7,
     "metadata": {},
     "output_type": "execute_result"
    }
   ],
   "source": [
    "X_Standardized.mean(axis=0)"
   ]
  },
  {
   "cell_type": "code",
   "execution_count": 8,
   "id": "ec74b50a",
   "metadata": {},
   "outputs": [
    {
     "data": {
      "text/plain": [
       "array([1., 1., 1.])"
      ]
     },
     "execution_count": 8,
     "metadata": {},
     "output_type": "execute_result"
    }
   ],
   "source": [
    "X_Standardized.std(axis=0)"
   ]
  },
  {
   "cell_type": "code",
   "execution_count": 9,
   "id": "18f5ae9a",
   "metadata": {},
   "outputs": [],
   "source": [
    "mn_scaler = preprocessing.MinMaxScaler() #in this values come between 0 to 1"
   ]
  },
  {
   "cell_type": "code",
   "execution_count": 10,
   "id": "034fdf5f",
   "metadata": {},
   "outputs": [
    {
     "data": {
      "text/plain": [
       "array([[0.44444444, 0.6       , 0.29139073],\n",
       "       [0.44444444, 0.15      , 1.        ],\n",
       "       [0.33333333, 0.        , 0.50331126],\n",
       "       [0.44444444, 0.9       , 0.13245033],\n",
       "       [1.        , 1.        , 0.43046358],\n",
       "       [0.66666667, 0.3       , 0.48344371],\n",
       "       [1.        , 0.45      , 0.1589404 ],\n",
       "       [0.        , 0.95      , 0.03311258],\n",
       "       [0.88888889, 0.4       , 0.        ],\n",
       "       [0.33333333, 0.175     , 0.89403974]])"
      ]
     },
     "execution_count": 10,
     "metadata": {},
     "output_type": "execute_result"
    }
   ],
   "source": [
    "X_scaled = mn_scaler.fit_transform(X)\n",
    "X_scaled"
   ]
  },
  {
   "cell_type": "code",
   "execution_count": 11,
   "id": "aa7c8b2b",
   "metadata": {},
   "outputs": [
    {
     "data": {
      "text/plain": [
       "array([[ 4.44444444,  6.        ,  2.91390728],\n",
       "       [ 4.44444444,  1.5       , 10.        ],\n",
       "       [ 3.33333333,  0.        ,  5.03311258],\n",
       "       [ 4.44444444,  9.        ,  1.32450331],\n",
       "       [10.        , 10.        ,  4.30463576],\n",
       "       [ 6.66666667,  3.        ,  4.83443709],\n",
       "       [10.        ,  4.5       ,  1.58940397],\n",
       "       [ 0.        ,  9.5       ,  0.33112583],\n",
       "       [ 8.88888889,  4.        ,  0.        ],\n",
       "       [ 3.33333333,  1.75      ,  8.94039735]])"
      ]
     },
     "execution_count": 11,
     "metadata": {},
     "output_type": "execute_result"
    }
   ],
   "source": [
    "mn_scaler1 = preprocessing.MinMaxScaler(feature_range=(0,10)) #in this values come between 0 to 10\n",
    "X_scaled1 = mn_scaler1.fit_transform(X)\n",
    "X_scaled1"
   ]
  },
  {
   "cell_type": "code",
   "execution_count": 12,
   "id": "22011238",
   "metadata": {},
   "outputs": [],
   "source": [
    "X_new = np.append(X, np.array([[70,700,2000]]),axis=0)"
   ]
  },
  {
   "cell_type": "code",
   "execution_count": 13,
   "id": "53bedd84",
   "metadata": {},
   "outputs": [
    {
     "data": {
      "text/plain": [
       "array([[   4,   75,  585],\n",
       "       [   4,   57,  692],\n",
       "       [   3,   51,  617],\n",
       "       [   4,   87,  561],\n",
       "       [   9,   91,  606],\n",
       "       [   6,   63,  614],\n",
       "       [   9,   69,  565],\n",
       "       [   0,   89,  546],\n",
       "       [   8,   67,  541],\n",
       "       [   3,   58,  676],\n",
       "       [  70,  700, 2000]])"
      ]
     },
     "execution_count": 13,
     "metadata": {},
     "output_type": "execute_result"
    }
   ],
   "source": [
    "X_new"
   ]
  },
  {
   "cell_type": "code",
   "execution_count": 14,
   "id": "6502bd49",
   "metadata": {},
   "outputs": [
    {
     "data": {
      "text/plain": [
       "array([[0.05714286, 0.03697997, 0.03015764],\n",
       "       [0.05714286, 0.00924499, 0.10349554],\n",
       "       [0.04285714, 0.        , 0.05209047],\n",
       "       [0.05714286, 0.05546995, 0.01370802],\n",
       "       [0.12857143, 0.06163328, 0.04455106],\n",
       "       [0.08571429, 0.01848998, 0.05003427],\n",
       "       [0.12857143, 0.02773498, 0.01644962],\n",
       "       [0.        , 0.05855162, 0.003427  ],\n",
       "       [0.11428571, 0.02465331, 0.        ],\n",
       "       [0.04285714, 0.01078582, 0.09252913],\n",
       "       [1.        , 1.        , 1.        ]])"
      ]
     },
     "execution_count": 14,
     "metadata": {},
     "output_type": "execute_result"
    }
   ],
   "source": [
    "X_new_mn = mn_scaler.fit_transform(X_new)\n",
    "X_new_mn"
   ]
  },
  {
   "cell_type": "code",
   "execution_count": 15,
   "id": "37656c17",
   "metadata": {},
   "outputs": [],
   "source": [
    "r_scaler = preprocessing.RobustScaler()"
   ]
  },
  {
   "cell_type": "code",
   "execution_count": 16,
   "id": "b8cb395d",
   "metadata": {},
   "outputs": [],
   "source": [
    "X_new_rs = r_scaler.fit_transform(X_new)"
   ]
  },
  {
   "cell_type": "code",
   "execution_count": 17,
   "id": "7030bd2e",
   "metadata": {},
   "outputs": [
    {
     "data": {
      "text/plain": [
       "array([[ 0.        ,  0.21818182, -0.25149701],\n",
       "       [ 0.        , -0.43636364,  1.02994012],\n",
       "       [-0.2       , -0.65454545,  0.13173653],\n",
       "       [ 0.        ,  0.65454545, -0.53892216],\n",
       "       [ 1.        ,  0.8       ,  0.        ],\n",
       "       [ 0.4       , -0.21818182,  0.09580838],\n",
       "       [ 1.        ,  0.        , -0.49101796],\n",
       "       [-0.8       ,  0.72727273, -0.71856287],\n",
       "       [ 0.8       , -0.07272727, -0.77844311],\n",
       "       [-0.2       , -0.4       ,  0.83832335],\n",
       "       [13.2       , 22.94545455, 16.69461078]])"
      ]
     },
     "execution_count": 17,
     "metadata": {},
     "output_type": "execute_result"
    }
   ],
   "source": [
    "X_new_rs"
   ]
  },
  {
   "cell_type": "code",
   "execution_count": 18,
   "id": "8b18ecfd",
   "metadata": {},
   "outputs": [
    {
     "data": {
      "text/plain": [
       "array([[0.00678194, 0.12716139, 0.99185885],\n",
       "       [0.00576074, 0.08209056, 0.99660822],\n",
       "       [0.00484565, 0.08237612, 0.99658953],\n",
       "       [0.00704573, 0.15324456, 0.98816318],\n",
       "       [0.01468523, 0.14848403, 0.98880576],\n",
       "       [0.00972049, 0.10206515, 0.99473022],\n",
       "       [0.01580975, 0.12120811, 0.99250121],\n",
       "       [0.        , 0.16088036, 0.98697391],\n",
       "       [0.01467374, 0.12289255, 0.99231149],\n",
       "       [0.00442158, 0.08548391, 0.99632974]])"
      ]
     },
     "execution_count": 18,
     "metadata": {},
     "output_type": "execute_result"
    }
   ],
   "source": [
    "X_normalized = preprocessing.normalize(X, norm='l2')\n",
    "X_normalized"
   ]
  },
  {
   "cell_type": "code",
   "execution_count": null,
   "id": "de801590",
   "metadata": {},
   "outputs": [],
   "source": []
  }
 ],
 "metadata": {
  "kernelspec": {
   "display_name": "Python 3",
   "language": "python",
   "name": "python3"
  },
  "language_info": {
   "codemirror_mode": {
    "name": "ipython",
    "version": 3
   },
   "file_extension": ".py",
   "mimetype": "text/x-python",
   "name": "python",
   "nbconvert_exporter": "python",
   "pygments_lexer": "ipython3",
   "version": "3.8.2"
  }
 },
 "nbformat": 4,
 "nbformat_minor": 5
}
